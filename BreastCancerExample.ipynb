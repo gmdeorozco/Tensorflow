{
  "nbformat": 4,
  "nbformat_minor": 0,
  "metadata": {
    "colab": {
      "provenance": [],
      "authorship_tag": "ABX9TyOVYvgv9UQEJ6SQ7kfxPNxQ",
      "include_colab_link": true
    },
    "kernelspec": {
      "name": "python3",
      "display_name": "Python 3"
    },
    "language_info": {
      "name": "python"
    }
  },
  "cells": [
    {
      "cell_type": "markdown",
      "metadata": {
        "id": "view-in-github",
        "colab_type": "text"
      },
      "source": [
        "<a href=\"https://colab.research.google.com/github/gmdeorozco/Tensorflow/blob/main/BreastCancerExample.ipynb\" target=\"_parent\"><img src=\"https://colab.research.google.com/assets/colab-badge.svg\" alt=\"Open In Colab\"/></a>"
      ]
    },
    {
      "cell_type": "code",
      "source": [
        "import tensorflow as tf\n",
        "from tensorflow import keras\n",
        "from sklearn.model_selection import train_test_split\n",
        "from sklearn.datasets import load_breast_cancer\n",
        "\n",
        "# Load the breast cancer dataset from scikit-learn\n",
        "data = load_breast_cancer()\n",
        "X = data.data\n",
        "y = data.target\n",
        "\n",
        "# Split the data into training and test sets\n",
        "X_train, X_test, y_train, y_test = train_test_split(X, y, test_size=0.2, random_state=42)\n",
        "\n",
        "# Define the architecture of the neural network\n",
        "model = keras.Sequential([\n",
        "    keras.layers.Dense(64, activation='relu', input_shape=(X_train.shape[1],)),\n",
        "    keras.layers.Dense(64, activation='relu'),\n",
        "    keras.layers.Dense(1, activation='sigmoid')\n",
        "])\n",
        "\n",
        "# Compile the model\n",
        "model.compile(optimizer='adam',\n",
        "              loss='binary_crossentropy',\n",
        "              metrics=['accuracy'])\n",
        "\n",
        "# Train the model\n",
        "model.fit(X_train, y_train, epochs=10, batch_size=32)\n",
        "\n",
        "# Evaluate the model\n",
        "test_loss, test_acc = model.evaluate(X_test, y_test)\n",
        "print('Test accuracy:', test_acc)\n"
      ],
      "metadata": {
        "colab": {
          "base_uri": "https://localhost:8080/"
        },
        "id": "NV7huXBXTRcp",
        "outputId": "192aa4b4-ad0a-4e01-df4e-64d4fd5fe27b"
      },
      "execution_count": 2,
      "outputs": [
        {
          "output_type": "stream",
          "name": "stdout",
          "text": [
            "Epoch 1/10\n",
            "15/15 [==============================] - 5s 8ms/step - loss: 31.6585 - accuracy: 0.5011\n",
            "Epoch 2/10\n",
            "15/15 [==============================] - 0s 8ms/step - loss: 4.7888 - accuracy: 0.7473\n",
            "Epoch 3/10\n",
            "15/15 [==============================] - 0s 5ms/step - loss: 2.2215 - accuracy: 0.7758\n",
            "Epoch 4/10\n",
            "15/15 [==============================] - 0s 6ms/step - loss: 0.7393 - accuracy: 0.8791\n",
            "Epoch 5/10\n",
            "15/15 [==============================] - 0s 7ms/step - loss: 0.6208 - accuracy: 0.9011\n",
            "Epoch 6/10\n",
            "15/15 [==============================] - 0s 10ms/step - loss: 0.6710 - accuracy: 0.8725\n",
            "Epoch 7/10\n",
            "15/15 [==============================] - 0s 5ms/step - loss: 0.6045 - accuracy: 0.9011\n",
            "Epoch 8/10\n",
            "15/15 [==============================] - 0s 6ms/step - loss: 0.5215 - accuracy: 0.8967\n",
            "Epoch 9/10\n",
            "15/15 [==============================] - 0s 4ms/step - loss: 0.9264 - accuracy: 0.8725\n",
            "Epoch 10/10\n",
            "15/15 [==============================] - 0s 7ms/step - loss: 0.5919 - accuracy: 0.8879\n",
            "4/4 [==============================] - 0s 6ms/step - loss: 0.1732 - accuracy: 0.9649\n",
            "Test accuracy: 0.9649122953414917\n"
          ]
        }
      ]
    }
  ]
}