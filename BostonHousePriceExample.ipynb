{
  "nbformat": 4,
  "nbformat_minor": 0,
  "metadata": {
    "colab": {
      "provenance": [],
      "authorship_tag": "ABX9TyPHCTd2Br3PlCVx7pSafP8+",
      "include_colab_link": true
    },
    "kernelspec": {
      "name": "python3",
      "display_name": "Python 3"
    },
    "language_info": {
      "name": "python"
    }
  },
  "cells": [
    {
      "cell_type": "markdown",
      "metadata": {
        "id": "view-in-github",
        "colab_type": "text"
      },
      "source": [
        "<a href=\"https://colab.research.google.com/github/gmdeorozco/Tensorflow/blob/main/BostonHousePriceExample.ipynb\" target=\"_parent\"><img src=\"https://colab.research.google.com/assets/colab-badge.svg\" alt=\"Open In Colab\"/></a>"
      ]
    },
    {
      "cell_type": "code",
      "execution_count": 2,
      "metadata": {
        "colab": {
          "base_uri": "https://localhost:8080/"
        },
        "id": "36jSYtFYW3EI",
        "outputId": "c9f880d9-2b7d-4fe0-8434-be0a3a382d34"
      },
      "outputs": [
        {
          "output_type": "stream",
          "name": "stdout",
          "text": [
            "4/4 [==============================] - 0s 4ms/step - loss: 16393166.0000\n",
            "Test loss: 16393166.0\n"
          ]
        }
      ],
      "source": [
        "import tensorflow as tf\n",
        "from tensorflow import keras\n",
        "\n",
        "# Load the Boston Housing dataset from Keras\n",
        "(X_train, y_train), (X_test, y_test) = keras.datasets.boston_housing.load_data()\n",
        "\n",
        "# Normalize the input features\n",
        "X_train = (X_train - X_train.mean(axis=0)) / X_train.std(axis=0)\n",
        "X_test = (X_test - X_train.mean(axis=0)) / X_train.std(axis=0)\n",
        "\n",
        "# Define the architecture of the neural network\n",
        "model = keras.Sequential([\n",
        "    keras.layers.Dense(64, activation='relu', input_shape=(X_train.shape[1],)),\n",
        "    keras.layers.Dense(64, activation='relu'),\n",
        "    keras.layers.Dense(1)  # No activation function for regression\n",
        "])\n",
        "\n",
        "# Compile the model\n",
        "model.compile(optimizer='adam', loss='mean_squared_error')\n",
        "\n",
        "# Train the model\n",
        "model.fit(X_train, y_train, epochs=800, batch_size=32, verbose=0)\n",
        "\n",
        "# Evaluate the model on test data\n",
        "test_loss = model.evaluate(X_test, y_test)\n",
        "print('Test loss:', test_loss)\n"
      ]
    }
  ]
}